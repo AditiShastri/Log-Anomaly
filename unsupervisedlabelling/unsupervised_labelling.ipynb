{
 "cells": [
  {
   "cell_type": "code",
   "execution_count": 1,
   "id": "9f8ab642-e955-42e1-8d01-82334f197b1f",
   "metadata": {},
   "outputs": [],
   "source": [
    "# === Step 1: Imports and Load Data ===\n",
    "import numpy as np\n",
    "import pandas as pd\n",
    "from joblib import load\n",
    "from sklearn.ensemble import IsolationForest\n",
    "from sklearn.neighbors import LocalOutlierFactor\n",
    "from sklearn.svm import OneClassSVM\n",
    "from sklearn.covariance import EllipticEnvelope\n",
    "from sklearn.cluster import DBSCAN\n",
    "from sklearn.preprocessing import StandardScaler\n",
    "import warnings\n",
    "warnings.filterwarnings('ignore')\n",
    "\n",
    "# Load the log sequence matrix \n",
    "X = load('log_sequence_matrix.joblib')\n",
    "\n",
    "# Standardize \n",
    "scaler = StandardScaler()\n",
    "X_scaled = scaler.fit_transform(X)\n"
   ]
  },
  {
   "cell_type": "code",
   "execution_count": 2,
   "id": "8b517bd6-85d5-4b37-88f0-77cd8c6c6610",
   "metadata": {},
   "outputs": [],
   "source": [
    "# Convert Model Output to Binary Labels\n",
    "def convert_to_binary(predictions, anomaly_value=-1):\n",
    "    return np.where(predictions == anomaly_value, 1, 0)  # 1 = anomaly\n",
    "    "
   ]
  },
  {
   "cell_type": "code",
   "execution_count": 3,
   "id": "040e3437-51e7-4b63-b64e-1a7d29956127",
   "metadata": {},
   "outputs": [],
   "source": [
    "# 1. Isolation Forest\n",
    "iso_model = IsolationForest(random_state=42)\n",
    "iso_preds = iso_model.fit_predict(X_scaled)\n",
    "iso_labels = convert_to_binary(iso_preds)\n"
   ]
  },
  {
   "cell_type": "code",
   "execution_count": 4,
   "id": "4f7c1d20-a670-4532-9268-f2d8265e3c7b",
   "metadata": {},
   "outputs": [],
   "source": [
    "# 2. Local Outlier Factor\n",
    "lof_model = LocalOutlierFactor(n_neighbors=20, contamination='auto')\n",
    "lof_preds = lof_model.fit_predict(X_scaled)\n",
    "lof_labels = convert_to_binary(lof_preds)"
   ]
  },
  {
   "cell_type": "code",
   "execution_count": 5,
   "id": "f7428ee5-c045-421a-b0e0-3e01bcd0b465",
   "metadata": {},
   "outputs": [],
   "source": [
    "# 3. One-Class SVM\n",
    "svm_model = OneClassSVM(nu=0.05, kernel='rbf', gamma='scale')\n",
    "svm_preds = svm_model.fit_predict(X_scaled)\n",
    "svm_labels = convert_to_binary(svm_preds)"
   ]
  },
  {
   "cell_type": "code",
   "execution_count": 6,
   "id": "48903f88-2dc2-4ea6-97b3-9cfacd530a6d",
   "metadata": {},
   "outputs": [],
   "source": [
    "# 4. Elliptic Envelope\n",
    "ee_model = EllipticEnvelope(contamination=0.05)\n",
    "ee_preds = ee_model.fit_predict(X_scaled)\n",
    "ee_labels = convert_to_binary(ee_preds)\n"
   ]
  },
  {
   "cell_type": "code",
   "execution_count": 7,
   "id": "3bd0b2f9-816b-4606-a97b-580267b4d684",
   "metadata": {},
   "outputs": [],
   "source": [
    "# 5. DBSCAN\n",
    "dbscan_model = DBSCAN(eps=1.5, min_samples=5)\n",
    "dbscan_preds = dbscan_model.fit_predict(X_scaled)\n",
    "# Treat only noise (-1) as anomaly\n",
    "dbscan_labels = convert_to_binary(dbscan_preds, anomaly_value=-1)"
   ]
  },
  {
   "cell_type": "code",
   "execution_count": 12,
   "id": "529a08c8-53b6-4b9b-9b0c-9b3b01304725",
   "metadata": {},
   "outputs": [
    {
     "name": "stdout",
     "output_type": "stream",
     "text": [
      "Saved to 'unsupervised_labels.csv'\n"
     ]
    },
    {
     "data": {
      "text/html": [
       "<div>\n",
       "<style scoped>\n",
       "    .dataframe tbody tr th:only-of-type {\n",
       "        vertical-align: middle;\n",
       "    }\n",
       "\n",
       "    .dataframe tbody tr th {\n",
       "        vertical-align: top;\n",
       "    }\n",
       "\n",
       "    .dataframe thead th {\n",
       "        text-align: right;\n",
       "    }\n",
       "</style>\n",
       "<table border=\"1\" class=\"dataframe\">\n",
       "  <thead>\n",
       "    <tr style=\"text-align: right;\">\n",
       "      <th></th>\n",
       "      <th>isolation_forest</th>\n",
       "      <th>local_outlier_factor</th>\n",
       "      <th>one_class_svm</th>\n",
       "      <th>elliptic_envelope</th>\n",
       "      <th>dbscan</th>\n",
       "    </tr>\n",
       "    <tr>\n",
       "      <th>window_index</th>\n",
       "      <th></th>\n",
       "      <th></th>\n",
       "      <th></th>\n",
       "      <th></th>\n",
       "      <th></th>\n",
       "    </tr>\n",
       "  </thead>\n",
       "  <tbody>\n",
       "    <tr>\n",
       "      <th>0</th>\n",
       "      <td>1</td>\n",
       "      <td>1</td>\n",
       "      <td>1</td>\n",
       "      <td>0</td>\n",
       "      <td>0</td>\n",
       "    </tr>\n",
       "    <tr>\n",
       "      <th>1</th>\n",
       "      <td>1</td>\n",
       "      <td>0</td>\n",
       "      <td>1</td>\n",
       "      <td>0</td>\n",
       "      <td>0</td>\n",
       "    </tr>\n",
       "    <tr>\n",
       "      <th>2</th>\n",
       "      <td>1</td>\n",
       "      <td>1</td>\n",
       "      <td>1</td>\n",
       "      <td>0</td>\n",
       "      <td>0</td>\n",
       "    </tr>\n",
       "    <tr>\n",
       "      <th>3</th>\n",
       "      <td>1</td>\n",
       "      <td>0</td>\n",
       "      <td>1</td>\n",
       "      <td>0</td>\n",
       "      <td>0</td>\n",
       "    </tr>\n",
       "    <tr>\n",
       "      <th>4</th>\n",
       "      <td>1</td>\n",
       "      <td>0</td>\n",
       "      <td>1</td>\n",
       "      <td>0</td>\n",
       "      <td>0</td>\n",
       "    </tr>\n",
       "  </tbody>\n",
       "</table>\n",
       "</div>"
      ],
      "text/plain": [
       "              isolation_forest  local_outlier_factor  one_class_svm  \\\n",
       "window_index                                                          \n",
       "0                            1                     1              1   \n",
       "1                            1                     0              1   \n",
       "2                            1                     1              1   \n",
       "3                            1                     0              1   \n",
       "4                            1                     0              1   \n",
       "\n",
       "              elliptic_envelope  dbscan  \n",
       "window_index                             \n",
       "0                             0       0  \n",
       "1                             0       0  \n",
       "2                             0       0  \n",
       "3                             0       0  \n",
       "4                             0       0  "
      ]
     },
     "execution_count": 12,
     "metadata": {},
     "output_type": "execute_result"
    }
   ],
   "source": [
    "# Save\n",
    "\n",
    "labels_df = pd.DataFrame({\n",
    "    'isolation_forest': iso_labels,\n",
    "    'local_outlier_factor': lof_labels,\n",
    "    'one_class_svm': svm_labels,\n",
    "    'elliptic_envelope': ee_labels,\n",
    "    'dbscan': dbscan_labels\n",
    "})\n",
    "\n",
    "labels_df.index.name = 'window_index'\n",
    "\n",
    "# to CSV\n",
    "labels_df.to_csv('unsupervised_labels.csv')\n",
    "\n",
    "print(\"Saved to 'unsupervised_labels.csv'\")\n",
    "labels_df.head()\n"
   ]
  },
  {
   "cell_type": "code",
   "execution_count": 9,
   "id": "370a1ad3-e5ad-4925-83a7-613604842357",
   "metadata": {},
   "outputs": [
    {
     "name": "stdout",
     "output_type": "stream",
     "text": [
      "dbscan                    160\n",
      "isolation_forest        11647\n",
      "local_outlier_factor      575\n",
      "one_class_svm           14100\n",
      "elliptic_envelope        5292\n",
      "dtype: int64\n"
     ]
    }
   ],
   "source": [
    "print(labels_df[[\"dbscan\", \"isolation_forest\", \"local_outlier_factor\", \"one_class_svm\", \"elliptic_envelope\"]].apply(lambda col: (col == 1).sum()))"
   ]
  },
  {
   "cell_type": "code",
   "execution_count": 13,
   "id": "ef9fb5c0-9504-4fb0-b379-e0635d692f7e",
   "metadata": {},
   "outputs": [
    {
     "name": "stdout",
     "output_type": "stream",
     "text": [
      "Saved to 'unsupervised_labels_with_majority.csv'\n"
     ]
    },
    {
     "data": {
      "text/html": [
       "<div>\n",
       "<style scoped>\n",
       "    .dataframe tbody tr th:only-of-type {\n",
       "        vertical-align: middle;\n",
       "    }\n",
       "\n",
       "    .dataframe tbody tr th {\n",
       "        vertical-align: top;\n",
       "    }\n",
       "\n",
       "    .dataframe thead th {\n",
       "        text-align: right;\n",
       "    }\n",
       "</style>\n",
       "<table border=\"1\" class=\"dataframe\">\n",
       "  <thead>\n",
       "    <tr style=\"text-align: right;\">\n",
       "      <th></th>\n",
       "      <th>Anomaly_Vote_Sum</th>\n",
       "      <th>Final_Label</th>\n",
       "    </tr>\n",
       "    <tr>\n",
       "      <th>window_index</th>\n",
       "      <th></th>\n",
       "      <th></th>\n",
       "    </tr>\n",
       "  </thead>\n",
       "  <tbody>\n",
       "    <tr>\n",
       "      <th>0</th>\n",
       "      <td>3</td>\n",
       "      <td>1</td>\n",
       "    </tr>\n",
       "    <tr>\n",
       "      <th>1</th>\n",
       "      <td>2</td>\n",
       "      <td>0</td>\n",
       "    </tr>\n",
       "    <tr>\n",
       "      <th>2</th>\n",
       "      <td>3</td>\n",
       "      <td>1</td>\n",
       "    </tr>\n",
       "    <tr>\n",
       "      <th>3</th>\n",
       "      <td>2</td>\n",
       "      <td>0</td>\n",
       "    </tr>\n",
       "    <tr>\n",
       "      <th>4</th>\n",
       "      <td>2</td>\n",
       "      <td>0</td>\n",
       "    </tr>\n",
       "  </tbody>\n",
       "</table>\n",
       "</div>"
      ],
      "text/plain": [
       "              Anomaly_Vote_Sum  Final_Label\n",
       "window_index                               \n",
       "0                            3            1\n",
       "1                            2            0\n",
       "2                            3            1\n",
       "3                            2            0\n",
       "4                            2            0"
      ]
     },
     "execution_count": 13,
     "metadata": {},
     "output_type": "execute_result"
    }
   ],
   "source": [
    "vote_matrix = labels_df[[\"isolation_forest\", \"local_outlier_factor\", \"one_class_svm\", \"elliptic_envelope\", \"dbscan\"]]\n",
    "\n",
    "# Count how many models flagged each window as anomaly (value = 1)\n",
    "labels_df[\"Anomaly_Vote_Sum\"] = vote_matrix.sum(axis=1)\n",
    "\n",
    "# Final label: 1 if at least 3 out of 5 models say it's an anomaly\n",
    "labels_df[\"Final_Label\"] = labels_df[\"Anomaly_Vote_Sum\"].apply(lambda x: 1 if x >= 3 else 0)\n",
    "\n",
    "labels_df.to_csv(\"unsupervised_labels_with_majority.csv\")\n",
    "\n",
    "print(\"Saved to 'unsupervised_labels_with_majority.csv'\")\n",
    "labels_df[[\"Anomaly_Vote_Sum\", \"Final_Label\"]].head()\n"
   ]
  },
  {
   "cell_type": "code",
   "execution_count": null,
   "id": "7cd8c314-e16b-4127-8a0c-00442ffef8fd",
   "metadata": {},
   "outputs": [],
   "source": []
  }
 ],
 "metadata": {
  "kernelspec": {
   "display_name": "Python 3 (ipykernel)",
   "language": "python",
   "name": "python3"
  },
  "language_info": {
   "codemirror_mode": {
    "name": "ipython",
    "version": 3
   },
   "file_extension": ".py",
   "mimetype": "text/x-python",
   "name": "python",
   "nbconvert_exporter": "python",
   "pygments_lexer": "ipython3",
   "version": "3.12.6"
  }
 },
 "nbformat": 4,
 "nbformat_minor": 5
}
